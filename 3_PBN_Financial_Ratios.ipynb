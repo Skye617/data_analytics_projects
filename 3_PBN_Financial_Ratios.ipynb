{
  "nbformat": 4,
  "nbformat_minor": 0,
  "metadata": {
    "colab": {
      "name": "Financial_Ratios",
      "provenance": []
    },
    "kernelspec": {
      "name": "python3",
      "display_name": "Python 3"
    },
    "language_info": {
      "name": "python"
    }
  },
  "cells": [
    {
      "cell_type": "code",
      "source": [
        "import pandas as pd"
      ],
      "metadata": {
        "id": "pXjIRJBzCR4V"
      },
      "execution_count": null,
      "outputs": []
    },
    {
      "cell_type": "code",
      "source": [
        "financials_clean = pd.read_csv(\"/content/drive/MyDrive/Capstone Project: PBN/Data/financials_clean.csv\")"
      ],
      "metadata": {
        "id": "WjYlruHlCZ_k"
      },
      "execution_count": null,
      "outputs": []
    },
    {
      "cell_type": "code",
      "source": [
        "financials_clean.columns"
      ],
      "metadata": {
        "colab": {
          "base_uri": "https://localhost:8080/"
        },
        "id": "4Xir7azhEAff",
        "outputId": "6a78de50-4631-4279-da80-f69923cbe4d5"
      },
      "execution_count": null,
      "outputs": [
        {
          "output_type": "execute_result",
          "data": {
            "text/plain": [
              "Index(['Unnamed: 0', 'Tax Number', 'Report Start Date', 'Report End Date',\n",
              "       'Net Sales (domestic revenue)', 'Net Sales (export revenue)',\n",
              "       'Total Net Sales', 'Revenue from other performances', 'Other Income',\n",
              "       'Material Cost', 'Cost of Services', 'Purchase Value of Goods Sold',\n",
              "       'Market Value of Service', 'Cost of Goods Sold', 'Salary Expenses',\n",
              "       'Depreciation', 'Other Expenses', 'Gross Income',\n",
              "       'Financial Operations Revenue', 'Financial Operations Cost',\n",
              "       'Financial Operations Income', 'Regular Operations Income',\n",
              "       'Extraordinary Revenue', 'Extraordinary Expenses',\n",
              "       'Extraordinary Income', 'Income Before Provision For Income Taxes',\n",
              "       'Provision For Income Taxes', 'Profit After Tax IS',\n",
              "       'Use Of Retained Earnings For Dividends', 'Approved Dividend Share',\n",
              "       'Profit or Loss of The Year IS', 'Assets', 'Intangible Assets',\n",
              "       'Capitalized Value of R&D', 'Intellectual Property', 'Goodwill',\n",
              "       'Tangible Assets', 'Assets in Course of Construction',\n",
              "       'Advances on Investments', 'Fixed Financial Assets', 'Current Assets',\n",
              "       'Inventory', 'Accounts Receivable', 'Other Receivables', 'Securities',\n",
              "       'Funds', 'Accrued and Deferred Assets', 'Total Assets',\n",
              "       'Shareholder's Equity', 'Subscribed Capital',\n",
              "       'Subscribed Capital Unpaid (-)', 'Capital Reserve',\n",
              "       'Accumulated Profit Reserve', 'Tied-Up Reserve', 'Revaluation Reserve',\n",
              "       'Profit or Loss of The Year BS', 'Profit After Tax BS', 'Provisions',\n",
              "       'Liabilities', 'Subordinated Liabilities', 'Long-Term Liabilities',\n",
              "       'Long-Term Loans', 'Investment and Development Credits',\n",
              "       'Other Long-Term Credits', 'Current Liabilities',\n",
              "       'Short-Term Bank Loans', 'Other Short-Term Loans',\n",
              "       'Advances Received From Customers', 'Accounts Payable',\n",
              "       'Accrued Charges and Deferred Liabilities', 'Total Liabilities'],\n",
              "      dtype='object')"
            ]
          },
          "metadata": {},
          "execution_count": 5
        }
      ]
    },
    {
      "cell_type": "code",
      "execution_count": null,
      "metadata": {
        "id": "o6QIbqKyCJtb"
      },
      "outputs": [],
      "source": [
        "financials_clean[\"ROA\"]= financials_clean['Profit After Tax IS']/financials_clean['Total Assets'] "
      ]
    },
    {
      "cell_type": "code",
      "source": [
        "financials_clean[\"ROA\"]"
      ],
      "metadata": {
        "colab": {
          "base_uri": "https://localhost:8080/"
        },
        "id": "4RDHHmRgEd-t",
        "outputId": "f4f56759-f200-4a91-a44c-a4de41982706"
      },
      "execution_count": null,
      "outputs": [
        {
          "output_type": "execute_result",
          "data": {
            "text/plain": [
              "0        -0.166158\n",
              "1        -0.012804\n",
              "2         0.020784\n",
              "3         0.046318\n",
              "4         0.049393\n",
              "            ...   \n",
              "270101    0.190130\n",
              "270102    0.222642\n",
              "270103    0.254319\n",
              "270104    0.369785\n",
              "270105         NaN\n",
              "Name: ROA, Length: 270106, dtype: float64"
            ]
          },
          "metadata": {},
          "execution_count": 50
        }
      ]
    },
    {
      "cell_type": "code",
      "source": [
        "financials_clean[\"Inventory_turnover\"]=financials_clean['Cost of Goods Sold']/financials_clean['Inventory']"
      ],
      "metadata": {
        "id": "5JqKtTQgEhzf"
      },
      "execution_count": null,
      "outputs": []
    },
    {
      "cell_type": "code",
      "source": [
        "financials_clean[\"Inventory_turnover\"]"
      ],
      "metadata": {
        "colab": {
          "base_uri": "https://localhost:8080/"
        },
        "id": "z9yRqecTF3Gs",
        "outputId": "48ea02e5-d4fd-47b5-8a7c-709957f6fca0"
      },
      "execution_count": null,
      "outputs": [
        {
          "output_type": "execute_result",
          "data": {
            "text/plain": [
              "0         6.847178\n",
              "1         5.458850\n",
              "2         3.446015\n",
              "3         3.480052\n",
              "4         2.815890\n",
              "            ...   \n",
              "270101    2.594849\n",
              "270102    2.261791\n",
              "270103    4.418036\n",
              "270104    3.933596\n",
              "270105         NaN\n",
              "Name: Inventory_turnover, Length: 270106, dtype: float64"
            ]
          },
          "metadata": {},
          "execution_count": 9
        }
      ]
    },
    {
      "cell_type": "code",
      "source": [
        "financials_clean['sum']=financials_clean[['Material Cost','Cost of Services','Cost of Goods Sold','Salary Expenses','Depreciation','Other Expenses','Financial Operations Cost']].fillna(0).sum(axis=1)"
      ],
      "metadata": {
        "id": "W6Kft0dmReRy"
      },
      "execution_count": null,
      "outputs": []
    },
    {
      "cell_type": "code",
      "source": [
        "sum_ind = financials_clean.columns.get_loc('sum')\n",
        "COGS_ind = financials_clean.columns.get_loc('Cost of Goods Sold')"
      ],
      "metadata": {
        "id": "fBZb2qRHrEpr"
      },
      "execution_count": null,
      "outputs": []
    },
    {
      "cell_type": "code",
      "source": [
        "zero_sum_ind = financials_clean[financials_clean['sum']==0].index"
      ],
      "metadata": {
        "id": "6HsNCGS_tIag"
      },
      "execution_count": null,
      "outputs": []
    },
    {
      "cell_type": "code",
      "source": [
        "non_zero_ind = list(set(financials_clean.index)^set(zero_sum_ind))"
      ],
      "metadata": {
        "id": "peTUiygRtp69"
      },
      "execution_count": null,
      "outputs": []
    },
    {
      "cell_type": "code",
      "source": [
        "financials_clean[\"Manufacturing_Costs_to_Total_Expenses\"] = 0"
      ],
      "metadata": {
        "id": "W7iBRpOPuLmc"
      },
      "execution_count": null,
      "outputs": []
    },
    {
      "cell_type": "code",
      "source": [
        "financials_clean.iloc[non_zero_ind, financials_clean.columns.get_loc(\"Manufacturing_Costs_to_Total_Expenses\")] = financials_clean.iloc[non_zero_ind, COGS_ind]/financials_clean.iloc[non_zero_ind,sum_ind]"
      ],
      "metadata": {
        "id": "MPc3jCtPuTGO"
      },
      "execution_count": null,
      "outputs": []
    },
    {
      "cell_type": "code",
      "source": [
        "financials_clean[\"Manufacturing_Costs_to_Total_Expenses\"].value_counts()"
      ],
      "metadata": {
        "id": "oGLIGzWaU0Jl",
        "colab": {
          "base_uri": "https://localhost:8080/"
        },
        "outputId": "624c750d-7970-47ab-c84e-076e628c5eaf"
      },
      "execution_count": null,
      "outputs": [
        {
          "output_type": "execute_result",
          "data": {
            "text/plain": [
              "1.000000    4378\n",
              "0.000000    2945\n",
              "0.500000     235\n",
              "0.666667      24\n",
              "0.333333      21\n",
              "            ... \n",
              "0.995822       1\n",
              "0.988345       1\n",
              "0.978747       1\n",
              "0.910017       1\n",
              "0.762901       1\n",
              "Name: Manufacturing_Costs_to_Total_Expenses, Length: 259226, dtype: int64"
            ]
          },
          "metadata": {},
          "execution_count": 40
        }
      ]
    },
    {
      "cell_type": "code",
      "source": [
        "financials_clean.drop(columns = 'sum', inplace=True)"
      ],
      "metadata": {
        "id": "4mgefcW9Ju8J"
      },
      "execution_count": null,
      "outputs": []
    },
    {
      "cell_type": "code",
      "source": [
        "financials_clean.drop(columns = 'Unnamed: 0', inplace=True)"
      ],
      "metadata": {
        "id": "HIdGCHgRwOry"
      },
      "execution_count": null,
      "outputs": []
    },
    {
      "cell_type": "code",
      "source": [
        "financials_clean.head()"
      ],
      "metadata": {
        "colab": {
          "base_uri": "https://localhost:8080/",
          "height": 438
        },
        "id": "WscjMHGFv2-3",
        "outputId": "b046b790-8db8-4678-a098-7f1f67570077"
      },
      "execution_count": null,
      "outputs": [
        {
          "output_type": "execute_result",
          "data": {
            "text/plain": [
              "     Tax Number Report Start Date Report End Date  \\\n",
              "0  2.902999e+10        2003-01-01      2003-12-31   \n",
              "1  2.902999e+10        2004-01-01      2004-12-31   \n",
              "2  2.902999e+10        2005-01-01      2005-12-31   \n",
              "3  2.902999e+10        2006-01-01      2006-12-31   \n",
              "4  2.902999e+10        2007-01-01      2007-12-31   \n",
              "\n",
              "   Net Sales (domestic revenue)  Net Sales (export revenue)  Total Net Sales  \\\n",
              "0                           NaN                         NaN       74122000.0   \n",
              "1                           NaN                         NaN       68541000.0   \n",
              "2                           NaN                         NaN       43864000.0   \n",
              "3                           NaN                         NaN       45740000.0   \n",
              "4                           NaN                         NaN       31452000.0   \n",
              "\n",
              "   Revenue from other performances  Other Income  Material Cost  \\\n",
              "0                              0.0           0.0            NaN   \n",
              "1                              0.0        1000.0            NaN   \n",
              "2                              0.0        2000.0            NaN   \n",
              "3                              0.0        1000.0            NaN   \n",
              "4                              0.0       18000.0            NaN   \n",
              "\n",
              "   Cost of Services  ...  Current Liabilities  Short-Term Bank Loans  \\\n",
              "0               NaN  ...            4255000.0                    NaN   \n",
              "1               NaN  ...            5835000.0                    NaN   \n",
              "2               NaN  ...            5217000.0                    NaN   \n",
              "3               NaN  ...            4488000.0                    NaN   \n",
              "4               NaN  ...            1855000.0                    NaN   \n",
              "\n",
              "   Other Short-Term Loans  Advances Received From Customers  Accounts Payable  \\\n",
              "0                     NaN                               NaN               NaN   \n",
              "1                     NaN                               NaN               NaN   \n",
              "2                     NaN                               NaN               NaN   \n",
              "3                     NaN                               NaN               NaN   \n",
              "4                     NaN                               NaN               NaN   \n",
              "\n",
              "   Accrued Charges and Deferred Liabilities  Total Liabilities        ROA  \\\n",
              "0                                   29000.0         11945000.0  -2.281134   \n",
              "1                                   49000.0         13144000.0  -0.393720   \n",
              "2                                   29000.0         12547000.0   1.113043   \n",
              "3                                       0.0         12196000.0   6.678571   \n",
              "4                                       0.0          9969000.0  61.500000   \n",
              "\n",
              "   Inventory_turnover  Manufacturing_Costs_to_Total_Expenses  \n",
              "0            6.847178                               0.940576  \n",
              "1            5.458850                               0.926395  \n",
              "2            3.446015                               0.895747  \n",
              "3            3.480052                               0.892872  \n",
              "4            2.815890                               0.903597  \n",
              "\n",
              "[5 rows x 73 columns]"
            ],
            "text/html": [
              "\n",
              "  <div id=\"df-8e78d84a-df90-4171-8e62-3697a5977fa1\">\n",
              "    <div class=\"colab-df-container\">\n",
              "      <div>\n",
              "<style scoped>\n",
              "    .dataframe tbody tr th:only-of-type {\n",
              "        vertical-align: middle;\n",
              "    }\n",
              "\n",
              "    .dataframe tbody tr th {\n",
              "        vertical-align: top;\n",
              "    }\n",
              "\n",
              "    .dataframe thead th {\n",
              "        text-align: right;\n",
              "    }\n",
              "</style>\n",
              "<table border=\"1\" class=\"dataframe\">\n",
              "  <thead>\n",
              "    <tr style=\"text-align: right;\">\n",
              "      <th></th>\n",
              "      <th>Tax Number</th>\n",
              "      <th>Report Start Date</th>\n",
              "      <th>Report End Date</th>\n",
              "      <th>Net Sales (domestic revenue)</th>\n",
              "      <th>Net Sales (export revenue)</th>\n",
              "      <th>Total Net Sales</th>\n",
              "      <th>Revenue from other performances</th>\n",
              "      <th>Other Income</th>\n",
              "      <th>Material Cost</th>\n",
              "      <th>Cost of Services</th>\n",
              "      <th>...</th>\n",
              "      <th>Current Liabilities</th>\n",
              "      <th>Short-Term Bank Loans</th>\n",
              "      <th>Other Short-Term Loans</th>\n",
              "      <th>Advances Received From Customers</th>\n",
              "      <th>Accounts Payable</th>\n",
              "      <th>Accrued Charges and Deferred Liabilities</th>\n",
              "      <th>Total Liabilities</th>\n",
              "      <th>ROA</th>\n",
              "      <th>Inventory_turnover</th>\n",
              "      <th>Manufacturing_Costs_to_Total_Expenses</th>\n",
              "    </tr>\n",
              "  </thead>\n",
              "  <tbody>\n",
              "    <tr>\n",
              "      <th>0</th>\n",
              "      <td>2.902999e+10</td>\n",
              "      <td>2003-01-01</td>\n",
              "      <td>2003-12-31</td>\n",
              "      <td>NaN</td>\n",
              "      <td>NaN</td>\n",
              "      <td>74122000.0</td>\n",
              "      <td>0.0</td>\n",
              "      <td>0.0</td>\n",
              "      <td>NaN</td>\n",
              "      <td>NaN</td>\n",
              "      <td>...</td>\n",
              "      <td>4255000.0</td>\n",
              "      <td>NaN</td>\n",
              "      <td>NaN</td>\n",
              "      <td>NaN</td>\n",
              "      <td>NaN</td>\n",
              "      <td>29000.0</td>\n",
              "      <td>11945000.0</td>\n",
              "      <td>-2.281134</td>\n",
              "      <td>6.847178</td>\n",
              "      <td>0.940576</td>\n",
              "    </tr>\n",
              "    <tr>\n",
              "      <th>1</th>\n",
              "      <td>2.902999e+10</td>\n",
              "      <td>2004-01-01</td>\n",
              "      <td>2004-12-31</td>\n",
              "      <td>NaN</td>\n",
              "      <td>NaN</td>\n",
              "      <td>68541000.0</td>\n",
              "      <td>0.0</td>\n",
              "      <td>1000.0</td>\n",
              "      <td>NaN</td>\n",
              "      <td>NaN</td>\n",
              "      <td>...</td>\n",
              "      <td>5835000.0</td>\n",
              "      <td>NaN</td>\n",
              "      <td>NaN</td>\n",
              "      <td>NaN</td>\n",
              "      <td>NaN</td>\n",
              "      <td>49000.0</td>\n",
              "      <td>13144000.0</td>\n",
              "      <td>-0.393720</td>\n",
              "      <td>5.458850</td>\n",
              "      <td>0.926395</td>\n",
              "    </tr>\n",
              "    <tr>\n",
              "      <th>2</th>\n",
              "      <td>2.902999e+10</td>\n",
              "      <td>2005-01-01</td>\n",
              "      <td>2005-12-31</td>\n",
              "      <td>NaN</td>\n",
              "      <td>NaN</td>\n",
              "      <td>43864000.0</td>\n",
              "      <td>0.0</td>\n",
              "      <td>2000.0</td>\n",
              "      <td>NaN</td>\n",
              "      <td>NaN</td>\n",
              "      <td>...</td>\n",
              "      <td>5217000.0</td>\n",
              "      <td>NaN</td>\n",
              "      <td>NaN</td>\n",
              "      <td>NaN</td>\n",
              "      <td>NaN</td>\n",
              "      <td>29000.0</td>\n",
              "      <td>12547000.0</td>\n",
              "      <td>1.113043</td>\n",
              "      <td>3.446015</td>\n",
              "      <td>0.895747</td>\n",
              "    </tr>\n",
              "    <tr>\n",
              "      <th>3</th>\n",
              "      <td>2.902999e+10</td>\n",
              "      <td>2006-01-01</td>\n",
              "      <td>2006-12-31</td>\n",
              "      <td>NaN</td>\n",
              "      <td>NaN</td>\n",
              "      <td>45740000.0</td>\n",
              "      <td>0.0</td>\n",
              "      <td>1000.0</td>\n",
              "      <td>NaN</td>\n",
              "      <td>NaN</td>\n",
              "      <td>...</td>\n",
              "      <td>4488000.0</td>\n",
              "      <td>NaN</td>\n",
              "      <td>NaN</td>\n",
              "      <td>NaN</td>\n",
              "      <td>NaN</td>\n",
              "      <td>0.0</td>\n",
              "      <td>12196000.0</td>\n",
              "      <td>6.678571</td>\n",
              "      <td>3.480052</td>\n",
              "      <td>0.892872</td>\n",
              "    </tr>\n",
              "    <tr>\n",
              "      <th>4</th>\n",
              "      <td>2.902999e+10</td>\n",
              "      <td>2007-01-01</td>\n",
              "      <td>2007-12-31</td>\n",
              "      <td>NaN</td>\n",
              "      <td>NaN</td>\n",
              "      <td>31452000.0</td>\n",
              "      <td>0.0</td>\n",
              "      <td>18000.0</td>\n",
              "      <td>NaN</td>\n",
              "      <td>NaN</td>\n",
              "      <td>...</td>\n",
              "      <td>1855000.0</td>\n",
              "      <td>NaN</td>\n",
              "      <td>NaN</td>\n",
              "      <td>NaN</td>\n",
              "      <td>NaN</td>\n",
              "      <td>0.0</td>\n",
              "      <td>9969000.0</td>\n",
              "      <td>61.500000</td>\n",
              "      <td>2.815890</td>\n",
              "      <td>0.903597</td>\n",
              "    </tr>\n",
              "  </tbody>\n",
              "</table>\n",
              "<p>5 rows × 73 columns</p>\n",
              "</div>\n",
              "      <button class=\"colab-df-convert\" onclick=\"convertToInteractive('df-8e78d84a-df90-4171-8e62-3697a5977fa1')\"\n",
              "              title=\"Convert this dataframe to an interactive table.\"\n",
              "              style=\"display:none;\">\n",
              "        \n",
              "  <svg xmlns=\"http://www.w3.org/2000/svg\" height=\"24px\"viewBox=\"0 0 24 24\"\n",
              "       width=\"24px\">\n",
              "    <path d=\"M0 0h24v24H0V0z\" fill=\"none\"/>\n",
              "    <path d=\"M18.56 5.44l.94 2.06.94-2.06 2.06-.94-2.06-.94-.94-2.06-.94 2.06-2.06.94zm-11 1L8.5 8.5l.94-2.06 2.06-.94-2.06-.94L8.5 2.5l-.94 2.06-2.06.94zm10 10l.94 2.06.94-2.06 2.06-.94-2.06-.94-.94-2.06-.94 2.06-2.06.94z\"/><path d=\"M17.41 7.96l-1.37-1.37c-.4-.4-.92-.59-1.43-.59-.52 0-1.04.2-1.43.59L10.3 9.45l-7.72 7.72c-.78.78-.78 2.05 0 2.83L4 21.41c.39.39.9.59 1.41.59.51 0 1.02-.2 1.41-.59l7.78-7.78 2.81-2.81c.8-.78.8-2.07 0-2.86zM5.41 20L4 18.59l7.72-7.72 1.47 1.35L5.41 20z\"/>\n",
              "  </svg>\n",
              "      </button>\n",
              "      \n",
              "  <style>\n",
              "    .colab-df-container {\n",
              "      display:flex;\n",
              "      flex-wrap:wrap;\n",
              "      gap: 12px;\n",
              "    }\n",
              "\n",
              "    .colab-df-convert {\n",
              "      background-color: #E8F0FE;\n",
              "      border: none;\n",
              "      border-radius: 50%;\n",
              "      cursor: pointer;\n",
              "      display: none;\n",
              "      fill: #1967D2;\n",
              "      height: 32px;\n",
              "      padding: 0 0 0 0;\n",
              "      width: 32px;\n",
              "    }\n",
              "\n",
              "    .colab-df-convert:hover {\n",
              "      background-color: #E2EBFA;\n",
              "      box-shadow: 0px 1px 2px rgba(60, 64, 67, 0.3), 0px 1px 3px 1px rgba(60, 64, 67, 0.15);\n",
              "      fill: #174EA6;\n",
              "    }\n",
              "\n",
              "    [theme=dark] .colab-df-convert {\n",
              "      background-color: #3B4455;\n",
              "      fill: #D2E3FC;\n",
              "    }\n",
              "\n",
              "    [theme=dark] .colab-df-convert:hover {\n",
              "      background-color: #434B5C;\n",
              "      box-shadow: 0px 1px 3px 1px rgba(0, 0, 0, 0.15);\n",
              "      filter: drop-shadow(0px 1px 2px rgba(0, 0, 0, 0.3));\n",
              "      fill: #FFFFFF;\n",
              "    }\n",
              "  </style>\n",
              "\n",
              "      <script>\n",
              "        const buttonEl =\n",
              "          document.querySelector('#df-8e78d84a-df90-4171-8e62-3697a5977fa1 button.colab-df-convert');\n",
              "        buttonEl.style.display =\n",
              "          google.colab.kernel.accessAllowed ? 'block' : 'none';\n",
              "\n",
              "        async function convertToInteractive(key) {\n",
              "          const element = document.querySelector('#df-8e78d84a-df90-4171-8e62-3697a5977fa1');\n",
              "          const dataTable =\n",
              "            await google.colab.kernel.invokeFunction('convertToInteractive',\n",
              "                                                     [key], {});\n",
              "          if (!dataTable) return;\n",
              "\n",
              "          const docLinkHtml = 'Like what you see? Visit the ' +\n",
              "            '<a target=\"_blank\" href=https://colab.research.google.com/notebooks/data_table.ipynb>data table notebook</a>'\n",
              "            + ' to learn more about interactive tables.';\n",
              "          element.innerHTML = '';\n",
              "          dataTable['output_type'] = 'display_data';\n",
              "          await google.colab.output.renderOutput(dataTable, element);\n",
              "          const docLink = document.createElement('div');\n",
              "          docLink.innerHTML = docLinkHtml;\n",
              "          element.appendChild(docLink);\n",
              "        }\n",
              "      </script>\n",
              "    </div>\n",
              "  </div>\n",
              "  "
            ]
          },
          "metadata": {},
          "execution_count": 46
        }
      ]
    },
    {
      "cell_type": "code",
      "source": [
        "financials_clean.rename({'Assets':'Fixed Assets'}, axis = 1, inplace=True)"
      ],
      "metadata": {
        "id": "ovrj9STuzE2t"
      },
      "execution_count": null,
      "outputs": []
    },
    {
      "cell_type": "code",
      "source": [
        "financials_clean.columns"
      ],
      "metadata": {
        "colab": {
          "base_uri": "https://localhost:8080/"
        },
        "id": "bOYi8TvjwB8F",
        "outputId": "601a676f-7437-41a6-f351-8786649ef003"
      },
      "execution_count": null,
      "outputs": [
        {
          "output_type": "execute_result",
          "data": {
            "text/plain": [
              "Index(['Tax Number', 'Report Start Date', 'Report End Date',\n",
              "       'Net Sales (domestic revenue)', 'Net Sales (export revenue)',\n",
              "       'Total Net Sales', 'Revenue from other performances', 'Other Income',\n",
              "       'Material Cost', 'Cost of Services', 'Purchase Value of Goods Sold',\n",
              "       'Market Value of Service', 'Cost of Goods Sold', 'Salary Expenses',\n",
              "       'Depreciation', 'Other Expenses', 'Gross Income',\n",
              "       'Financial Operations Revenue', 'Financial Operations Cost',\n",
              "       'Financial Operations Income', 'Regular Operations Income',\n",
              "       'Extraordinary Revenue', 'Extraordinary Expenses',\n",
              "       'Extraordinary Income', 'Income Before Provision For Income Taxes',\n",
              "       'Provision For Income Taxes', 'Profit After Tax IS',\n",
              "       'Use Of Retained Earnings For Dividends', 'Approved Dividend Share',\n",
              "       'Profit or Loss of The Year IS', 'Fixed Assets', 'Intangible Assets',\n",
              "       'Capitalized Value of R&D', 'Intellectual Property', 'Goodwill',\n",
              "       'Tangible Assets', 'Assets in Course of Construction',\n",
              "       'Advances on Investments', 'Fixed Financial Assets', 'Current Assets',\n",
              "       'Inventory', 'Accounts Receivable', 'Other Receivables', 'Securities',\n",
              "       'Funds', 'Accrued and Deferred Assets', 'Total Assets',\n",
              "       'Shareholder's Equity', 'Subscribed Capital',\n",
              "       'Subscribed Capital Unpaid (-)', 'Capital Reserve',\n",
              "       'Accumulated Profit Reserve', 'Tied-Up Reserve', 'Revaluation Reserve',\n",
              "       'Profit or Loss of The Year BS', 'Profit After Tax BS', 'Provisions',\n",
              "       'Liabilities', 'Subordinated Liabilities', 'Long-Term Liabilities',\n",
              "       'Long-Term Loans', 'Investment and Development Credits',\n",
              "       'Other Long-Term Credits', 'Current Liabilities',\n",
              "       'Short-Term Bank Loans', 'Other Short-Term Loans',\n",
              "       'Advances Received From Customers', 'Accounts Payable',\n",
              "       'Accrued Charges and Deferred Liabilities', 'Total Liabilities', 'ROA',\n",
              "       'Inventory_turnover', 'Manufacturing_Costs_to_Total_Expenses'],\n",
              "      dtype='object')"
            ]
          },
          "metadata": {},
          "execution_count": 54
        }
      ]
    },
    {
      "cell_type": "code",
      "source": [
        "list_of_var = ['Total Net Sales', \n",
        "               'Cost of Goods Sold', \n",
        "               'Gross Income', \n",
        "               'Financial Operations Income', \n",
        "               'Regular Operations Income', \n",
        "               'Extraordinary Income', \n",
        "               'Profit After Tax IS', \n",
        "               'Profit or Loss of The Year IS', \n",
        "               'Total Assets',\n",
        "               \"Shareholder's Equity\",\n",
        "               'Long-Term Liabilities',\n",
        "               'Current Liabilities',\n",
        "               'Total Liabilities',\n",
        "               'ROA',\n",
        "               'Inventory_turnover',\n",
        "               'Manufacturing_Costs_to_Total_Expenses'\n",
        "               ]"
      ],
      "metadata": {
        "id": "0c4lLsYuwKh3"
      },
      "execution_count": null,
      "outputs": []
    },
    {
      "cell_type": "code",
      "source": [
        "financials_clean.to_csv('/content/drive/MyDrive/Capstone Project: PBN/Data/financials_index_added.csv')"
      ],
      "metadata": {
        "id": "vFxbBYMezrYa"
      },
      "execution_count": null,
      "outputs": []
    },
    {
      "cell_type": "code",
      "source": [
        ""
      ],
      "metadata": {
        "id": "rKmQMKPt0caT"
      },
      "execution_count": null,
      "outputs": []
    }
  ]
}